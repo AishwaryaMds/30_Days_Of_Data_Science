{
 "cells": [
  {
   "cell_type": "markdown",
   "id": "4cf77eba-606d-4fc9-9a15-25b13de40f59",
   "metadata": {},
   "source": [
    "# Day 4: Python Basics"
   ]
  },
  {
   "cell_type": "markdown",
   "id": "70ba42f5-230e-4904-8e4e-6e0fc9e3281e",
   "metadata": {},
   "source": [
    "# Data Types, Functions, and Loops"
   ]
  },
  {
   "cell_type": "markdown",
   "id": "a6bee9b0-f67d-4a56-8c8d-5505267724e5",
   "metadata": {
    "jp-MarkdownHeadingCollapsed": true
   },
   "source": [
    "## 1. Exploring Data Types\n",
    "## Integer, Float, String, Boolean, List, Tuple, Set, Dictionary"
   ]
  },
  {
   "cell_type": "code",
   "execution_count": 4,
   "id": "145b0271-2344-4278-8336-694a179191fc",
   "metadata": {},
   "outputs": [
    {
     "name": "stdout",
     "output_type": "stream",
     "text": [
      "Integer: 10 <class 'int'>\n"
     ]
    }
   ],
   "source": [
    "# Integer Example\n",
    "x = 10\n",
    "print(\"Integer:\", x, type(x))"
   ]
  },
  {
   "cell_type": "code",
   "execution_count": 5,
   "id": "80b82a6d-4a7f-4f6c-8fed-593e81bcec0c",
   "metadata": {},
   "outputs": [
    {
     "name": "stdout",
     "output_type": "stream",
     "text": [
      "Float: 3.14 <class 'float'>\n"
     ]
    }
   ],
   "source": [
    "# Float Example\n",
    "y = 3.14\n",
    "print(\"Float:\", y, type(y))"
   ]
  },
  {
   "cell_type": "code",
   "execution_count": 6,
   "id": "29cd6307-2fb8-43f6-ae23-5747315e540b",
   "metadata": {},
   "outputs": [
    {
     "name": "stdout",
     "output_type": "stream",
     "text": [
      "String: Hello, Python! <class 'str'>\n"
     ]
    }
   ],
   "source": [
    "# String Example\n",
    "z = \"Hello, Python!\"\n",
    "print(\"String:\", z, type(z))\n"
   ]
  },
  {
   "cell_type": "code",
   "execution_count": 7,
   "id": "4d5aed00-84a7-4be0-be4b-9217da940bd3",
   "metadata": {},
   "outputs": [
    {
     "name": "stdout",
     "output_type": "stream",
     "text": [
      "Boolean: True <class 'bool'>\n"
     ]
    }
   ],
   "source": [
    "# Boolean Example\n",
    "flag = True\n",
    "print(\"Boolean:\", flag, type(flag))"
   ]
  },
  {
   "cell_type": "code",
   "execution_count": 8,
   "id": "3548a934-9bd0-4e26-a4d8-ff5bd0a7492b",
   "metadata": {},
   "outputs": [
    {
     "name": "stdout",
     "output_type": "stream",
     "text": [
      "List: ['apple', 'banana', 'cherry'] <class 'list'>\n"
     ]
    }
   ],
   "source": [
    "# List Example\n",
    "fruits = [\"apple\", \"banana\", \"cherry\"]\n",
    "print(\"List:\", fruits, type(fruits))"
   ]
  },
  {
   "cell_type": "code",
   "execution_count": 9,
   "id": "35ca9ea4-a429-45c2-87c8-fd80017642d6",
   "metadata": {},
   "outputs": [
    {
     "name": "stdout",
     "output_type": "stream",
     "text": [
      "Tuple: (1, 2, 3) <class 'tuple'>\n"
     ]
    }
   ],
   "source": [
    "# Tuple Example\n",
    "tuple_example = (1, 2, 3)\n",
    "print(\"Tuple:\", tuple_example, type(tuple_example))"
   ]
  },
  {
   "cell_type": "code",
   "execution_count": 10,
   "id": "c70bb991-2268-4150-aa75-b826b2e05cde",
   "metadata": {},
   "outputs": [
    {
     "name": "stdout",
     "output_type": "stream",
     "text": [
      "Set: {1, 2, 3, 4} <class 'set'>\n"
     ]
    }
   ],
   "source": [
    "# Set Example\n",
    "set_example = {1, 2, 3, 4}\n",
    "print(\"Set:\", set_example, type(set_example))"
   ]
  },
  {
   "cell_type": "code",
   "execution_count": 11,
   "id": "280cbce5-f1ab-4490-96a4-2c451aaf86b6",
   "metadata": {},
   "outputs": [
    {
     "name": "stdout",
     "output_type": "stream",
     "text": [
      "Dictionary: {'name': 'Alice', 'age': 25} <class 'dict'>\n"
     ]
    }
   ],
   "source": [
    "# Dictionary Example\n",
    "dict_example = {\"name\": \"Alice\", \"age\": 25}\n",
    "print(\"Dictionary:\", dict_example, type(dict_example))"
   ]
  },
  {
   "cell_type": "markdown",
   "id": "a8a456ec-d158-4c04-9c47-d714e6ac2ce1",
   "metadata": {
    "jp-MarkdownHeadingCollapsed": true
   },
   "source": [
    "## 2. Functions\n",
    "## Define and use custom functions"
   ]
  },
  {
   "cell_type": "code",
   "execution_count": 13,
   "id": "0150ee31-a7cf-4ae8-b0c2-c495bb815c60",
   "metadata": {},
   "outputs": [
    {
     "name": "stdout",
     "output_type": "stream",
     "text": [
      "Hello, Aishwarya!\n"
     ]
    }
   ],
   "source": [
    "# Define and use custom functions\n",
    "\n",
    "def greet(name):\n",
    "    return f\"Hello, {name}!\"\n",
    "\n",
    "print(greet(\"Aishwarya\"))"
   ]
  },
  {
   "cell_type": "code",
   "execution_count": 14,
   "id": "183d5de3-8efb-4378-8c20-c44d4e2e350a",
   "metadata": {},
   "outputs": [
    {
     "name": "stdout",
     "output_type": "stream",
     "text": [
      "Sum: 12\n"
     ]
    }
   ],
   "source": [
    "def add_numbers(a, b):\n",
    "    return a + b\n",
    "\n",
    "print(\"Sum:\", add_numbers(5, 7))"
   ]
  },
  {
   "cell_type": "code",
   "execution_count": 15,
   "id": "cd3d493b-d77b-498b-b62f-b6668327a4ee",
   "metadata": {},
   "outputs": [
    {
     "name": "stdout",
     "output_type": "stream",
     "text": [
      "Square of 4: 16\n"
     ]
    }
   ],
   "source": [
    "# Lambda Function\n",
    "square = lambda x: x ** 2\n",
    "print(\"Square of 4:\", square(4))"
   ]
  },
  {
   "cell_type": "markdown",
   "id": "e91d54c4-12dc-4c5f-9cd8-73e7e8505e00",
   "metadata": {},
   "source": [
    "## 3. Loops"
   ]
  },
  {
   "cell_type": "code",
   "execution_count": 17,
   "id": "20bbce65-9d79-44a5-aaea-c95ccfd0222c",
   "metadata": {},
   "outputs": [
    {
     "name": "stdout",
     "output_type": "stream",
     "text": [
      "Fruit: apple\n",
      "Fruit: banana\n",
      "Fruit: cherry\n"
     ]
    }
   ],
   "source": [
    "# For loop example\n",
    "for fruit in fruits:\n",
    "    print(\"Fruit:\", fruit)"
   ]
  },
  {
   "cell_type": "code",
   "execution_count": 18,
   "id": "bc09c633-3b85-4c2c-b00e-d4c4ab9a3f69",
   "metadata": {},
   "outputs": [
    {
     "name": "stdout",
     "output_type": "stream",
     "text": [
      "Count: 5\n",
      "Count: 4\n",
      "Count: 3\n",
      "Count: 2\n",
      "Count: 1\n"
     ]
    }
   ],
   "source": [
    "# While loop example\n",
    "count = 5\n",
    "while count > 0:\n",
    "    print(\"Count:\", count)\n",
    "    count -= 1"
   ]
  },
  {
   "cell_type": "code",
   "execution_count": 19,
   "id": "eca56510-8d43-4fdf-bb49-e850f3458347",
   "metadata": {},
   "outputs": [
    {
     "name": "stdout",
     "output_type": "stream",
     "text": [
      "Odd Number: 1\n",
      "Odd Number: 3\n"
     ]
    }
   ],
   "source": [
    "# Using break and continue\n",
    "for i in range(10):\n",
    "    if i == 5:\n",
    "        break  # Exit the loop when i is 5\n",
    "    if i % 2 == 0:\n",
    "        continue  # Skip even numbers\n",
    "    print(\"Odd Number:\", i)"
   ]
  },
  {
   "cell_type": "code",
   "execution_count": null,
   "id": "decb4a42-ea25-4551-9ec9-83c3457601df",
   "metadata": {},
   "outputs": [],
   "source": []
  }
 ],
 "metadata": {
  "kernelspec": {
   "display_name": "Python 3 (ipykernel)",
   "language": "python",
   "name": "python3"
  },
  "language_info": {
   "codemirror_mode": {
    "name": "ipython",
    "version": 3
   },
   "file_extension": ".py",
   "mimetype": "text/x-python",
   "name": "python",
   "nbconvert_exporter": "python",
   "pygments_lexer": "ipython3",
   "version": "3.12.4"
  }
 },
 "nbformat": 4,
 "nbformat_minor": 5
}
