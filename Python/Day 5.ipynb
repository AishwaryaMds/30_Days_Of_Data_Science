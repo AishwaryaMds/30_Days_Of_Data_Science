{
 "cells": [
  {
   "cell_type": "markdown",
   "id": "9a30f0f3-a842-4b16-b0f4-f13e4158b3aa",
   "metadata": {},
   "source": [
    "# Day 5: NumPy Basics"
   ]
  },
  {
   "cell_type": "markdown",
   "id": "006e8b0e-c2d7-40b2-beec-2f6645397a01",
   "metadata": {},
   "source": [
    "# Arrays, Indexing, Operations\n"
   ]
  },
  {
   "cell_type": "markdown",
   "id": "05723223-2e7a-4c19-9c4f-bc5e7bf2f942",
   "metadata": {
    "jp-MarkdownHeadingCollapsed": true
   },
   "source": [
    "## 1. Creating Arrays"
   ]
  },
  {
   "cell_type": "code",
   "execution_count": 5,
   "id": "04646b09-7e23-4f8d-b343-411b02c0e2a6",
   "metadata": {},
   "outputs": [],
   "source": [
    "import numpy as np"
   ]
  },
  {
   "cell_type": "code",
   "execution_count": 8,
   "id": "cfb3b0a4-ef08-4ce3-9091-a0160f69c143",
   "metadata": {},
   "outputs": [
    {
     "name": "stdout",
     "output_type": "stream",
     "text": [
      "1D Array: [1 2 3 4 5]\n"
     ]
    }
   ],
   "source": [
    "# 1D Array\n",
    "array_1d = np.array([1, 2, 3, 4, 5])\n",
    "print(\"1D Array:\", array_1d)"
   ]
  },
  {
   "cell_type": "code",
   "execution_count": 10,
   "id": "193a017e-1c9f-46c8-810f-89ab4adc32e0",
   "metadata": {},
   "outputs": [
    {
     "name": "stdout",
     "output_type": "stream",
     "text": [
      "2D Array:\n",
      " [[1 2 3]\n",
      " [4 5 6]]\n"
     ]
    }
   ],
   "source": [
    "# 2D Array\n",
    "array_2d = np.array([[1, 2, 3], [4, 5, 6]])\n",
    "print(\"2D Array:\\n\", array_2d)"
   ]
  },
  {
   "cell_type": "code",
   "execution_count": 12,
   "id": "c64bf292-90a7-470b-ba17-5e397b88c109",
   "metadata": {},
   "outputs": [
    {
     "name": "stdout",
     "output_type": "stream",
     "text": [
      "Array of Zeros:\n",
      " [[0. 0. 0.]\n",
      " [0. 0. 0.]]\n"
     ]
    }
   ],
   "source": [
    "# Array of Zeros\n",
    "array_zeros = np.zeros((2, 3))\n",
    "print(\"Array of Zeros:\\n\", array_zeros)"
   ]
  },
  {
   "cell_type": "code",
   "execution_count": 14,
   "id": "f16832bb-c428-4274-924e-4c5654180d21",
   "metadata": {},
   "outputs": [
    {
     "name": "stdout",
     "output_type": "stream",
     "text": [
      "Array of Ones:\n",
      " [[1. 1.]\n",
      " [1. 1.]\n",
      " [1. 1.]]\n"
     ]
    }
   ],
   "source": [
    "# Array of Ones\n",
    "array_ones = np.ones((3, 2))\n",
    "print(\"Array of Ones:\\n\", array_ones)"
   ]
  },
  {
   "cell_type": "code",
   "execution_count": 16,
   "id": "cc2bf028-c0aa-4f7d-882d-0ab426041913",
   "metadata": {},
   "outputs": [
    {
     "name": "stdout",
     "output_type": "stream",
     "text": [
      "Range Array: [1 3 5 7 9]\n"
     ]
    }
   ],
   "source": [
    "# Range Array\n",
    "array_range = np.arange(1, 10, 2)\n",
    "print(\"Range Array:\", array_range)"
   ]
  },
  {
   "cell_type": "code",
   "execution_count": 19,
   "id": "a17ee2fe-3f6b-4544-9ffb-8bdce9afea50",
   "metadata": {},
   "outputs": [
    {
     "name": "stdout",
     "output_type": "stream",
     "text": [
      "Linspace Array: [0.   0.25 0.5  0.75 1.  ]\n"
     ]
    }
   ],
   "source": [
    "# Linspace Array\n",
    "array_linspace = np.linspace(0, 1, 5)\n",
    "print(\"Linspace Array:\", array_linspace)"
   ]
  },
  {
   "cell_type": "markdown",
   "id": "b321148d-566e-499b-9085-c643ed6406b5",
   "metadata": {
    "jp-MarkdownHeadingCollapsed": true
   },
   "source": [
    "## 2. Indexing and Slicing"
   ]
  },
  {
   "cell_type": "code",
   "execution_count": 22,
   "id": "c47b10dc-b458-49cc-bd09-154622c4a8c7",
   "metadata": {},
   "outputs": [
    {
     "name": "stdout",
     "output_type": "stream",
     "text": [
      "\n",
      "Element at index 2 in 1D Array: 3\n"
     ]
    }
   ],
   "source": [
    "# Accessing Elements\n",
    "print(\"\\nElement at index 2 in 1D Array:\", array_1d[2])"
   ]
  },
  {
   "cell_type": "code",
   "execution_count": 24,
   "id": "24ce6b99-b3a9-4cb9-a31a-ab1d3e28c16f",
   "metadata": {},
   "outputs": [
    {
     "name": "stdout",
     "output_type": "stream",
     "text": [
      "Slice of 1D Array (index 1 to 3): [2 3 4]\n"
     ]
    }
   ],
   "source": [
    "# Slicing 1D Array\n",
    "print(\"Slice of 1D Array (index 1 to 3):\", array_1d[1:4])"
   ]
  },
  {
   "cell_type": "code",
   "execution_count": 26,
   "id": "37f21060-7119-447e-b969-7e2da584bed2",
   "metadata": {},
   "outputs": [
    {
     "name": "stdout",
     "output_type": "stream",
     "text": [
      "Row 1 of 2D Array: [4 5 6]\n",
      "Element at Row 1, Column 2 in 2D Array: 6\n"
     ]
    }
   ],
   "source": [
    "# Accessing Rows and Columns in 2D Array\n",
    "print(\"Row 1 of 2D Array:\", array_2d[1])\n",
    "print(\"Element at Row 1, Column 2 in 2D Array:\", array_2d[1, 2])"
   ]
  },
  {
   "cell_type": "markdown",
   "id": "90615a35-b0b3-4255-9dac-3a0a9073253b",
   "metadata": {
    "jp-MarkdownHeadingCollapsed": true
   },
   "source": [
    "## 3. Operations on Arrays"
   ]
  },
  {
   "cell_type": "code",
   "execution_count": 29,
   "id": "f3cd6932-18da-4919-9265-2dfbdcc0d0bd",
   "metadata": {},
   "outputs": [],
   "source": [
    "array_a = np.array([10, 20, 30])\n",
    "array_b = np.array([1, 2, 3])"
   ]
  },
  {
   "cell_type": "code",
   "execution_count": 31,
   "id": "87f9af1c-ba78-43e8-9cdd-b0a2fefc077a",
   "metadata": {},
   "outputs": [
    {
     "name": "stdout",
     "output_type": "stream",
     "text": [
      "\n",
      "Addition: [11 22 33]\n",
      "Subtraction: [ 9 18 27]\n",
      "Multiplication: [10 40 90]\n",
      "Division: [10. 10. 10.]\n"
     ]
    }
   ],
   "source": [
    "# Element-wise Operations\n",
    "print(\"\\nAddition:\", array_a + array_b)\n",
    "print(\"Subtraction:\", array_a - array_b)\n",
    "print(\"Multiplication:\", array_a * array_b)\n",
    "print(\"Division:\", array_a / array_b)"
   ]
  },
  {
   "cell_type": "code",
   "execution_count": 33,
   "id": "b6211560-fc1e-4643-ae84-fa178e03da1e",
   "metadata": {},
   "outputs": [
    {
     "name": "stdout",
     "output_type": "stream",
     "text": [
      "Add 5 to Array A: [15 25 35]\n"
     ]
    }
   ],
   "source": [
    "# Broadcasting\n",
    "print(\"Add 5 to Array A:\", array_a + 5)"
   ]
  },
  {
   "cell_type": "code",
   "execution_count": 35,
   "id": "a13433fa-3afe-45d6-b645-bce605eb0801",
   "metadata": {},
   "outputs": [
    {
     "name": "stdout",
     "output_type": "stream",
     "text": [
      "Square Root of Array A: [3.16227766 4.47213595 5.47722558]\n",
      "Exponential of Array B: [ 2.71828183  7.3890561  20.08553692]\n"
     ]
    }
   ],
   "source": [
    "# Universal Functions\n",
    "print(\"Square Root of Array A:\", np.sqrt(array_a))\n",
    "print(\"Exponential of Array B:\", np.exp(array_b))"
   ]
  },
  {
   "cell_type": "markdown",
   "id": "424fa284-5c2f-40d9-b3f3-b94dfb3746fd",
   "metadata": {},
   "source": [
    "## 4. Aggregations"
   ]
  },
  {
   "cell_type": "code",
   "execution_count": 38,
   "id": "7f35ac06-e0a2-420e-9d3e-842f0ee41d28",
   "metadata": {},
   "outputs": [
    {
     "name": "stdout",
     "output_type": "stream",
     "text": [
      "\n",
      "Sum of Array A: 60\n"
     ]
    }
   ],
   "source": [
    "# Summing Elements\n",
    "print(\"\\nSum of Array A:\", np.sum(array_a))"
   ]
  },
  {
   "cell_type": "code",
   "execution_count": 40,
   "id": "775104c8-54c7-4e29-8b2e-1e18576b0404",
   "metadata": {},
   "outputs": [
    {
     "name": "stdout",
     "output_type": "stream",
     "text": [
      "Mean of Array B: 2.0\n"
     ]
    }
   ],
   "source": [
    "# Mean of Elements\n",
    "print(\"Mean of Array B:\", np.mean(array_b))"
   ]
  },
  {
   "cell_type": "code",
   "execution_count": 42,
   "id": "9cf83767-a2ec-47d8-ab6d-cea9b202de07",
   "metadata": {},
   "outputs": [
    {
     "name": "stdout",
     "output_type": "stream",
     "text": [
      "Max of Array A: 30\n",
      "Min of Array A: 10\n"
     ]
    }
   ],
   "source": [
    "# Maximum and Minimum\n",
    "print(\"Max of Array A:\", np.max(array_a))\n",
    "print(\"Min of Array A:\", np.min(array_a))"
   ]
  },
  {
   "cell_type": "code",
   "execution_count": 44,
   "id": "ca033429-6b33-4c0b-ba3b-bbf886538a23",
   "metadata": {},
   "outputs": [
    {
     "name": "stdout",
     "output_type": "stream",
     "text": [
      "Standard Deviation of Array B: 0.816496580927726\n"
     ]
    }
   ],
   "source": [
    "# Standard Deviation\n",
    "print(\"Standard Deviation of Array B:\", np.std(array_b))"
   ]
  },
  {
   "cell_type": "markdown",
   "id": "66c32128-229f-489c-a125-e46ab936ce52",
   "metadata": {},
   "source": [
    "## 5. Reshaping Arrays"
   ]
  },
  {
   "cell_type": "code",
   "execution_count": 47,
   "id": "31dc033d-69f0-4fb0-b9e1-cca4f5c8f0d2",
   "metadata": {},
   "outputs": [
    {
     "name": "stdout",
     "output_type": "stream",
     "text": [
      "\n",
      "Reshaped 1D Array to 2D:\n",
      " [[1 2 3 4 5]]\n"
     ]
    }
   ],
   "source": [
    "# Reshape 1D Array to 2D\n",
    "array_reshaped = array_1d.reshape((1, 5))\n",
    "print(\"\\nReshaped 1D Array to 2D:\\n\", array_reshaped)"
   ]
  },
  {
   "cell_type": "markdown",
   "id": "fca434e7-f812-415a-8888-8a2967001359",
   "metadata": {},
   "source": [
    "## 6. Comparisons"
   ]
  },
  {
   "cell_type": "code",
   "execution_count": 54,
   "id": "d83bb452-d639-4b82-8bca-d3368b823878",
   "metadata": {},
   "outputs": [
    {
     "name": "stdout",
     "output_type": "stream",
     "text": [
      "Elements Greater than 15 in Array A: [False  True  True]\n"
     ]
    }
   ],
   "source": [
    "#Element-Wise Comparisons\n",
    "comparison = array_a > 15\n",
    "print(\"Elements Greater than 15 in Array A:\", comparison)"
   ]
  },
  {
   "cell_type": "code",
   "execution_count": null,
   "id": "a69dc880-1f37-46e0-92fe-48c6c0699f6c",
   "metadata": {},
   "outputs": [],
   "source": [
    "\n"
   ]
  }
 ],
 "metadata": {
  "kernelspec": {
   "display_name": "Python 3 (ipykernel)",
   "language": "python",
   "name": "python3"
  },
  "language_info": {
   "codemirror_mode": {
    "name": "ipython",
    "version": 3
   },
   "file_extension": ".py",
   "mimetype": "text/x-python",
   "name": "python",
   "nbconvert_exporter": "python",
   "pygments_lexer": "ipython3",
   "version": "3.12.4"
  }
 },
 "nbformat": 4,
 "nbformat_minor": 5
}
