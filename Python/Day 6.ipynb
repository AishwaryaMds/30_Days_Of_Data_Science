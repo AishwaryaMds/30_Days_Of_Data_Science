{
 "cells": [
  {
   "cell_type": "markdown",
   "id": "a53697f2-f270-4fbc-bb19-64a8fbcf723a",
   "metadata": {},
   "source": [
    "# Day 6: Pandas Basics"
   ]
  },
  {
   "cell_type": "markdown",
   "id": "549b81a1-4760-40f5-ab7f-a76a95b3830c",
   "metadata": {},
   "source": [
    "# DataFrames, Indexing, and Filtering"
   ]
  },
  {
   "cell_type": "code",
   "execution_count": 5,
   "id": "02a3628d-fb4d-4afe-8db7-c44e02422e70",
   "metadata": {},
   "outputs": [],
   "source": [
    "import pandas as pd"
   ]
  },
  {
   "cell_type": "markdown",
   "id": "2bad5707-211d-4cdf-806d-f34234b7b933",
   "metadata": {
    "jp-MarkdownHeadingCollapsed": true
   },
   "source": [
    "## 1. Creating a DataFrame"
   ]
  },
  {
   "cell_type": "code",
   "execution_count": 8,
   "id": "9f355ca9-2531-442a-8123-e2652cabd483",
   "metadata": {},
   "outputs": [],
   "source": [
    "data = {'Name': ['Alice', 'Bob', 'Charlie'],\n",
    "        'Age': [25, 30, 35],\n",
    "        'Salary': [50000, 60000, 70000]}"
   ]
  },
  {
   "cell_type": "code",
   "execution_count": 10,
   "id": "ad4de03b-78b9-4e4d-9e88-6385688d3f1b",
   "metadata": {},
   "outputs": [],
   "source": [
    "df = pd.DataFrame(data)"
   ]
  },
  {
   "cell_type": "code",
   "execution_count": 12,
   "id": "9006f197-f4b2-42d1-9700-61a94ac05645",
   "metadata": {},
   "outputs": [
    {
     "name": "stdout",
     "output_type": "stream",
     "text": [
      "DataFrame:\n",
      "      Name  Age  Salary\n",
      "0    Alice   25   50000\n",
      "1      Bob   30   60000\n",
      "2  Charlie   35   70000\n"
     ]
    }
   ],
   "source": [
    "print(\"DataFrame:\")\n",
    "print(df)"
   ]
  },
  {
   "cell_type": "markdown",
   "id": "b3f79490-1834-4689-92c7-7198e21665a1",
   "metadata": {
    "jp-MarkdownHeadingCollapsed": true
   },
   "source": [
    "## 2. Indexing and Selection"
   ]
  },
  {
   "cell_type": "code",
   "execution_count": 15,
   "id": "d4c79e60-8811-4392-af52-786d2ced75e7",
   "metadata": {},
   "outputs": [
    {
     "name": "stdout",
     "output_type": "stream",
     "text": [
      "\n",
      "Selecting Age column:\n",
      "0    25\n",
      "1    30\n",
      "2    35\n",
      "Name: Age, dtype: int64\n"
     ]
    }
   ],
   "source": [
    "# Selecting a column\n",
    "print(\"\\nSelecting Age column:\")\n",
    "print(df['Age'])"
   ]
  },
  {
   "cell_type": "code",
   "execution_count": 17,
   "id": "fcf115a1-94b6-4b6e-82a2-30398b8e807f",
   "metadata": {},
   "outputs": [
    {
     "name": "stdout",
     "output_type": "stream",
     "text": [
      "\n",
      "Selecting Name and Salary columns:\n",
      "      Name  Salary\n",
      "0    Alice   50000\n",
      "1      Bob   60000\n",
      "2  Charlie   70000\n"
     ]
    }
   ],
   "source": [
    "# Selecting multiple columns\n",
    "print(\"\\nSelecting Name and Salary columns:\")\n",
    "print(df[['Name', 'Salary']])"
   ]
  },
  {
   "cell_type": "code",
   "execution_count": 19,
   "id": "d1a69237-627b-4098-a67a-36740c3410b9",
   "metadata": {},
   "outputs": [
    {
     "name": "stdout",
     "output_type": "stream",
     "text": [
      "\n",
      "Selecting row with label 1:\n",
      "Name        Bob\n",
      "Age          30\n",
      "Salary    60000\n",
      "Name: 1, dtype: object\n"
     ]
    }
   ],
   "source": [
    "# Selecting rows using loc (by label)\n",
    "print(\"\\nSelecting row with label 1:\")\n",
    "print(df.loc[1])"
   ]
  },
  {
   "cell_type": "code",
   "execution_count": 21,
   "id": "2e365341-1d0b-48cb-9afd-fd19c16c3a69",
   "metadata": {},
   "outputs": [
    {
     "name": "stdout",
     "output_type": "stream",
     "text": [
      "\n",
      "Selecting first two rows:\n",
      "    Name  Age  Salary\n",
      "0  Alice   25   50000\n",
      "1    Bob   30   60000\n"
     ]
    }
   ],
   "source": [
    "# Selecting rows using iloc (by index)\n",
    "print(\"\\nSelecting first two rows:\")\n",
    "print(df.iloc[0:2])"
   ]
  },
  {
   "cell_type": "markdown",
   "id": "0ddfc0f8-6157-4bd8-828a-6d95ded13a89",
   "metadata": {
    "jp-MarkdownHeadingCollapsed": true
   },
   "source": [
    "## 3. Filtering Data"
   ]
  },
  {
   "cell_type": "code",
   "execution_count": 24,
   "id": "a5de7b70-4830-4a64-9e2c-ec72b447bfb1",
   "metadata": {},
   "outputs": [],
   "source": [
    "# Filtering rows where Age is greater than 28\n",
    "filtered_df = df[df['Age'] > 28]"
   ]
  },
  {
   "cell_type": "code",
   "execution_count": 26,
   "id": "0cecdde3-144b-4718-a5be-131a65853e74",
   "metadata": {},
   "outputs": [
    {
     "name": "stdout",
     "output_type": "stream",
     "text": [
      "\n",
      "Filtered DataFrame where Age > 28:\n",
      "      Name  Age  Salary\n",
      "1      Bob   30   60000\n",
      "2  Charlie   35   70000\n"
     ]
    }
   ],
   "source": [
    "print(\"\\nFiltered DataFrame where Age > 28:\")\n",
    "print(filtered_df)"
   ]
  },
  {
   "cell_type": "code",
   "execution_count": null,
   "id": "6f03b8a6-2f59-4235-b4cd-cfa474bc0a12",
   "metadata": {},
   "outputs": [],
   "source": []
  }
 ],
 "metadata": {
  "kernelspec": {
   "display_name": "Python 3 (ipykernel)",
   "language": "python",
   "name": "python3"
  },
  "language_info": {
   "codemirror_mode": {
    "name": "ipython",
    "version": 3
   },
   "file_extension": ".py",
   "mimetype": "text/x-python",
   "name": "python",
   "nbconvert_exporter": "python",
   "pygments_lexer": "ipython3",
   "version": "3.12.4"
  }
 },
 "nbformat": 4,
 "nbformat_minor": 5
}
